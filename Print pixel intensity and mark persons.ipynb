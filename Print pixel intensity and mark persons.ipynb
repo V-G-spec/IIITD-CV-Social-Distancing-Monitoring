{
  "nbformat": 4,
  "nbformat_minor": 0,
  "metadata": {
    "colab": {
      "name": "Print pixel intensity and mark persons.ipynb",
      "provenance": [],
      "collapsed_sections": []
    },
    "kernelspec": {
      "name": "python3",
      "display_name": "Python 3"
    },
    "accelerator": "GPU"
  },
  "cells": [
    {
      "cell_type": "code",
      "metadata": {
        "id": "aXosK9rELbPK"
      },
      "source": [
        "import pandas as pd\n",
        "import os\n",
        "import cv2\n",
        "import numpy as np\n",
        "import matplotlib.pyplot as plt\n",
        "from PIL import Image\n",
        "from matplotlib.patches import Circle\n",
        "rgb_weights = [0.2989, 0.5870, 0.1140]\n",
        "fd = pd.read_csv('/content/drive/My Drive/YOLO files and Train for distance/alphapose-results_csv.csv')"
      ],
      "execution_count": null,
      "outputs": []
    },
    {
      "cell_type": "code",
      "metadata": {
        "id": "pmxQmp8VVpGb",
        "colab": {
          "base_uri": "https://localhost:8080/",
          "height": 439
        },
        "outputId": "d5cbf617-802c-4ded-a0bf-4e8160e5952a"
      },
      "source": [
        "print(int(fd['image_id'][0][:-4]))\n",
        "path = '/content/drive/My Drive/2dtodepth/outfile'\n",
        "i = fd['image_id'][0]\n",
        "k= 'frame'+i\n",
        "cur_path = os.path.join(path,k)\n",
        "img = cv2.imread(cur_path)\n",
        "img = np.dot(img[...,:3], rgb_weights)\n",
        "crop_img = img[:, 720:]\n",
        "print(img.shape, crop_img.shape)\n",
        "print(crop_img)\n",
        "plt.imshow(crop_img, cmap=plt.get_cmap(\"gray\"))"
      ],
      "execution_count": null,
      "outputs": [
        {
          "output_type": "stream",
          "text": [
            "25\n",
            "(1280, 1440) (1280, 720)\n",
            "[[ 57.0867  57.3964  57.3964 ... 112.9887 110.9889 109.989 ]\n",
            " [ 57.0867  57.3964  57.3964 ... 114.9885 112.9887 111.9888]\n",
            " [ 57.0867  57.3964  57.3964 ... 116.9883 116.9883 115.9884]\n",
            " ...\n",
            " [ 21.3705  24.6708  25.1546 ...  10.9989  11.9988  11.9988]\n",
            " [ 22.3704  25.6707  25.1546 ...  12.9987  13.9986  14.9985]\n",
            " [ 22.3704  25.6707  25.1546 ...  11.9988  12.9987  13.9986]]\n"
          ],
          "name": "stdout"
        },
        {
          "output_type": "execute_result",
          "data": {
            "text/plain": [
              "<matplotlib.image.AxesImage at 0x7fbe2bf9be10>"
            ]
          },
          "metadata": {
            "tags": []
          },
          "execution_count": 3
        },
        {
          "output_type": "display_data",
          "data": {
            "image/png": "[encoded data removed]",
            "text/plain": [
              "<Figure size 432x288 with 1 Axes>"
            ]
          },
          "metadata": {
            "tags": [],
            "needs_background": "light"
          }
        }
      ]
    },
    {
      "cell_type": "code",
      "metadata": {
        "id": "6yE77fpEIszK",
        "colab": {
          "base_uri": "https://localhost:8080/",
          "height": 35
        },
        "outputId": "c262c595-484f-442d-ad03-246f028a8323"
      },
      "source": [
        "fd['x_avg_of_shoulder'][0]"
      ],
      "execution_count": null,
      "outputs": [
        {
          "output_type": "execute_result",
          "data": {
            "application/vnd.google.colaboratory.intrinsic+json": {
              "type": "string"
            },
            "text/plain": [
              "'[391.0]'"
            ]
          },
          "metadata": {
            "tags": []
          },
          "execution_count": 4
        }
      ]
    },
    {
      "cell_type": "code",
      "metadata": {
        "id": "y33HWS9lXzyb"
      },
      "source": [
        "path2 = '/content/drive/My Drive/2dtodepth/outfile'\n",
        "for idx in range(len(fd['image_id'])):\n",
        "  i = fd['image_id'][idx]\n",
        "  k= 'frame'+i\n",
        "  cur_path = os.path.join(path2,k)\n",
        "  img = cv2.imread(cur_path)\n",
        "  img = cv2.circle(img, (int(float(fd['x_avg_of_shoulder'][idx][1:4]))+720 , int(float(fd['y_avg_of_shoulder'][idx][1:4]))), radius=5, color=(0, 0, 255), thickness=-1)\n",
        "  cv2.imwrite(cur_path, img)"
      ],
      "execution_count": null,
      "outputs": []
    },
    {
      "cell_type": "code",
      "metadata": {
        "id": "5PSDDvCjP4Tw"
      },
      "source": [
        "path = '/content/drive/My Drive/2dtodepth/outfile'\n",
        "for idx in range(len(fd['image_id'])):\n",
        "  i = fd['image_id'][idx]\n",
        "  k= 'frame'+i\n",
        "  cur_path = os.path.join(path,k)\n",
        "  img = cv2.imread(cur_path)\n",
        "  img = np.dot(img[...,:3], rgb_weights)\n",
        "  crop_img = img[:, 720:]\n",
        "  print(crop_img[int(fd['y_avg_of_shoulder'][idx][1:4])][int(fd['x_avg_of_shoulder'][idx][1:4])])\n",
        "  #crop_img = cv2.circle(crop_img, (int(fd['x_avg_of_shoulder'][idx][1:4]) , int(fd['y_avg_of_shoulder'][idx][1:4])), radius=2, color=(0, 0, 255), thickness=-1)\n",
        "  #cv2.imshow(crop_img)\n",
        "  #cv2.imread('cur_path',crop_img)"
      ],
      "execution_count": null,
      "outputs": []
    },
    {
      "cell_type": "code",
      "metadata": {
        "id": "URxaHu8z1s51",
        "colab": {
          "base_uri": "https://localhost:8080/",
          "height": 34
        },
        "outputId": "bf33fb60-e8e5-400f-e3d9-7681317b4b0f"
      },
      "source": [
        "print(len(fd['image_id']))"
      ],
      "execution_count": null,
      "outputs": [
        {
          "output_type": "stream",
          "text": [
            "17331\n"
          ],
          "name": "stdout"
        }
      ]
    }
  ]
}